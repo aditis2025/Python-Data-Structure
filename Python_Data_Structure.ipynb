{
  "nbformat": 4,
  "nbformat_minor": 0,
  "metadata": {
    "colab": {
      "provenance": []
    },
    "kernelspec": {
      "name": "python3",
      "display_name": "Python 3"
    },
    "language_info": {
      "name": "python"
    }
  },
  "cells": [
    {
      "cell_type": "markdown",
      "source": [
        "**Data-Structure- theory question**"
      ],
      "metadata": {
        "id": "F0lHdYP4BAS-"
      }
    },
    {
      "cell_type": "code",
      "execution_count": 1,
      "metadata": {
        "id": "UvWzQCqgnTNO"
      },
      "outputs": [],
      "source": [
        "# Q1. What are data structures, and why are they important?\n",
        "#     Data structures are specialized formats for organizing, storing, and accessing collections of data so it can be accessed and modified efficiently. Data structures define the relationships between data elements and provide operations for manipulating them.\n",
        "\n",
        "# it's important bucause-\n",
        "# 1. They optimize storage and retrieval, improving performance.\n",
        "# 2. Large-scale applications require structured data management.\n",
        "# 3. Optimize searching and sorting operations\n",
        "# 4. Reduces memory wastage and optimizes usage.\n",
        "# 5. Used Everywhere like Databases, operating systems, AI, web development, etc.\n"
      ]
    },
    {
      "cell_type": "code",
      "source": [
        "# Q2. Explain the difference between mutable and immutable data types with examples?\n",
        "#     Mutable data types allow modifications like adding, removing, or changing elements without changing their memory address.\n",
        "#      Lists , Dictionaries, Sets are mutable data types.\n",
        "#      Lst = [1, 2, 3]\n",
        "       print(Lst)  # output [1, 2, 3]\n",
        "\n",
        "       Lst.append(4)  # Modify the list by add a element\n",
        "       print(Lst)  # Output: [1, 2, 3, 4]\n",
        "\n",
        "#      Immutable data types do not allow modifications once created. Any change creates a new object in memory.\n",
        "#      integers, srtings, tuples, frozensets are immutable.\n",
        "\n",
        "#      t= (1, 2, 3)\n",
        "#      type(t) # tuple\n",
        "#      t.appendd(4) # give error\n"
      ],
      "metadata": {
        "id": "eKYmshy20jGQ"
      },
      "execution_count": null,
      "outputs": []
    },
    {
      "cell_type": "code",
      "source": [
        "#Q3. What are the main differences between lists and tuples in Python?\n",
        "#    Lists and tuples are used to store collections of items in Python, but they have key differences in terms of mutability, performance, and usage. lists are mutable we can modify it by do any changes but tuples are immutable we can't modify it.\n",
        "#    Lists are used when we need to chnage data but tuples are used when we want data should remain constant for safety and performance."
      ],
      "metadata": {
        "id": "bibCRmz00kwP"
      },
      "execution_count": null,
      "outputs": []
    },
    {
      "cell_type": "code",
      "source": [
        "#Q4. Describe how dictionaries store data?\n",
        "#    Dictionaries is a data stucture that stores data as key value pair. The keys are unique and immutable. Dictionaries are unordered (before Python 3.7), mutable, and fast due to their underlying implementation using hash tables.\n",
        "#    Dic= {\"course\":\"data science\", \"duration\":100}"
      ],
      "metadata": {
        "id": "uKOsE7v014Q4"
      },
      "execution_count": null,
      "outputs": []
    },
    {
      "cell_type": "code",
      "source": [
        "#Q5. Why might you use a set instead of a list in Python?\n",
        "#    Both sets and lists store collections of elements, but sets offer distinct advantages in certain scenarios. Sets does not allow duplicate element, they allow unique collection while lists allows duplicate.\n",
        "#    Sets support fast operations like union, intersection, and difference while Lists do not support these operations efficiently.\n",
        "#    Sets store only unique values, so they take less memory than lists containing duplicates.\n",
        "#    Sets are unorderd (elements appear in an arbitrary sequence) and  lists maintaing order"
      ],
      "metadata": {
        "id": "K3HMIo4i3tw9"
      },
      "execution_count": null,
      "outputs": []
    },
    {
      "cell_type": "code",
      "source": [
        "#Q6. What is a string in Python, and how is it different from a list?\n",
        "#    sring is a sequence of character. charecters are represented using numerical values, each charecter is assigned a unique. Each character in the string can be accessed by its index, or position and Substrings can be extracted using slicing.\n",
        "#    Strings can be joined together and altered using a variety of techniques.  It is defined using single ('), double (\"), or triple (''' \"\"\") quotes.\n",
        "\n",
        "#    it is different from a lists in some scenarios-\n",
        "#    srings are immutable, can't be change after creation. lists are mutable, element can be modified\n",
        "#    strings are sequence of charecter and lists are Sequence of elements (stor any data type).\n",
        "#    strings requires creating a new string, lists Can modify elements directly."
      ],
      "metadata": {
        "id": "2XwE9tHUBk1b"
      },
      "execution_count": null,
      "outputs": []
    },
    {
      "cell_type": "code",
      "source": [
        "#Q7. How do tuples ensure data integrity in Python?\n",
        "#    A tuple in Python is an immutable sequence of elements, once it created, its contents cannot be modified. This immutability is the key factor in ensuring data integrity.\n",
        "#    Tuples are Hashable, allows use as dictionary keys & set elements. They Make Code More Readable & Makes intent clear when data shouldn't change. Tuples reduce memory overhead in large-scale applications."
      ],
      "metadata": {
        "id": "bc1aYmJkHRBr"
      },
      "execution_count": null,
      "outputs": []
    },
    {
      "cell_type": "code",
      "source": [
        "#Q8. What is a hash table, and how does it relate to dictionaries in Python?\n",
        "#    A hash table is a data structure that stores key-value pairs and provides fast lookups, insertions, and deletions in average O(1) time complexity. A key is passed through a hash function to generate an index.\n",
        "#    Dictionaries in python is an implementation of a hash table. It allows efficient key-value storage and retrieval. Dictionaries  use hash tables under the hood to provide fast access to values based on keys. keys are hashed, each key is unique.\n",
        "#    It optimizes hash tables to store key-value pairs efficiently."
      ],
      "metadata": {
        "id": "aZaHstBWIvyn"
      },
      "execution_count": null,
      "outputs": []
    },
    {
      "cell_type": "code",
      "source": [
        "#Q9. Can lists contain different data types in Python?\n",
        "#    yes,  lists are heterogeneous, they can store elements of different data types in the same list."
      ],
      "metadata": {
        "id": "CIkNY-trNB5F"
      },
      "execution_count": null,
      "outputs": []
    },
    {
      "cell_type": "code",
      "source": [
        "#Q10. Explain why strings are immutable in Python.\n",
        "#     In Python, strings are immutable, once a string is created, it cannot be modified. Any operation that appears to change a string actually creates a new string rather than modifying the original one."
      ],
      "metadata": {
        "id": "7y6dHa7HNYJN"
      },
      "execution_count": null,
      "outputs": []
    },
    {
      "cell_type": "code",
      "source": [
        "#Q11. What advantages do dictionaries offer over lists for certain tasks?\n",
        "#     Dictionaries are better than lists in certain scenarios because they offer fast lookups, key-value associations, and efficient data organization.\n",
        "#     Dictionaries use hashing, so lookups are almost instantaneous and Dictionaries allow associating meaningful keys with values, making data retrieval easier.\n",
        "#     Dictionaries automatically prevent duplicate keys, making them useful for data integrity."
      ],
      "metadata": {
        "id": "KcW4veoXXF1h"
      },
      "execution_count": null,
      "outputs": []
    },
    {
      "cell_type": "code",
      "source": [
        "#Q12. Describe a scenario where using a tuple would be preferable over a list?\n",
        "#     A tuple is preferable over a list when immutability, performance, or data integrity is required.\n",
        "#     Scenario- Storing GPS Coordinates:\n",
        "#     coordinates = (40.7128, -74.0060)\n",
        "#     print(coordinates[0])  # Output: 40.7128 (Latitude)\n",
        "#     print(coordinates[1])  # Output: -74.0060 (Longitude)\n",
        "#     Coordinates should not change, so immutability prevents accidental modifications ans also Tuples consume less memory than lists, improving performance."
      ],
      "metadata": {
        "id": "XIBCwkCkXFnt"
      },
      "execution_count": null,
      "outputs": []
    },
    {
      "cell_type": "code",
      "source": [
        "#Q13. How do sets handle duplicate values in Python?\n",
        "#     sets automatically eliminate duplicate values. A set is an unordered collection of unique elements, meaning it only stores one instance of each value, regardless of how many times that value is added.\n",
        "#     my_set = {1, 2, 2, 3, 4, 4, 5}\n",
        "#     print (my_set)\n",
        "#     {1, 2, 3, 4, 5} #output"
      ],
      "metadata": {
        "id": "9PXeB1ZEXFh9"
      },
      "execution_count": null,
      "outputs": []
    },
    {
      "cell_type": "code",
      "source": [
        "#Q14. How does the “in” keyword work differently for lists and dictionaries?\n",
        "#     The 'in' keyword is used to check for membership in both lists and dictionaries, but it works differently for each.\n",
        "#     When n is used with a list,it checks if a given value exists anywhere in the list while When n is used with a dictionary, it checks only for keys, not values."
      ],
      "metadata": {
        "id": "ppcXGD0KXFba"
      },
      "execution_count": null,
      "outputs": []
    },
    {
      "cell_type": "code",
      "source": [
        "#Q15. Can you modify the elements of a tuple? Explain why or why not?\n",
        "#     No, we can't modify the elements of a tuple once it is created because tuples are immutable. Immutability means that after a tuple is created, its content can't changed (add, remove, or modify individual elements within the tuple.\n",
        "#     since tuples are immutable, they are generally faster than lists when it comes to accessing elements, as their data does not need to modified in place.\n"
      ],
      "metadata": {
        "id": "VSpT3VDkXFUN"
      },
      "execution_count": null,
      "outputs": []
    },
    {
      "cell_type": "code",
      "source": [
        "#Q16. What is a nested dictionary, and give an example of its use case?\n",
        "#     A nested dictionary is a dictionary inside another dictionary. This allows for hierarchical data storage, where each key maps to another dictionary instead of a single value.\n",
        "#     employees= {\n",
        "#     \"E101\": {\"name\": \"Alice Johnson\", \"department\": \"Engineering\", \"salary\": 75000, \"projects\": [\"AI Research\", \"Cloud Migration\"]},\n",
        "#     \"E102\": {\"name\": \"Bob Smith\",\"department\": \"Marketing\", \"salary\": 65000, \"projects\": [\"SEO Strategy\", \"Ad Campaign\"]},\n",
        "#     \"E103\": {\"name\": \"Charlie Brown\", \"department\": \"HR\", \"salary\": 60000, \"projects\": [\"Recruitment Drive\", \"Employee Engagement\"]}\n",
        "#      }\n",
        "\n",
        "#      print(employees[\"E101\"][\"name\"])       #Output: Alice Johnson"
      ],
      "metadata": {
        "id": "X6T4A1fHXFKj"
      },
      "execution_count": null,
      "outputs": []
    },
    {
      "cell_type": "code",
      "source": [
        "#Q17. Describe the time complexity of accessing elements in a dictionary.\n",
        "#     Dictionaries use hash tables to store key-value pairs, which allows for efficient lookups, insertions, and deletions. Dictionary lookups are usually O(1) because Python hashes the key to compute an index.\n",
        "#     and directly retrieves the value from that index. No need to search through all elements, unlike lists."
      ],
      "metadata": {
        "id": "b7bhQGE3XExL"
      },
      "execution_count": null,
      "outputs": []
    },
    {
      "cell_type": "code",
      "source": [
        "#Q18. In what situations are lists preferred over dictionaries?\n",
        "#     lists are preferred over dictionaries in situations where you need to store an ordered collection of elements and access them via index positions. Lists are also useful for operations like sorting, slicing,\n",
        "#     and iterating over sequential data and lists provide more convenient and flexible tools for modification in element."
      ],
      "metadata": {
        "id": "2qweW7fDXV1h"
      },
      "execution_count": null,
      "outputs": []
    },
    {
      "cell_type": "code",
      "source": [
        "#Q19. Why are dictionaries considered unordered, and how does that affect data retrieval?\n",
        "#     Dictionaries are considered unordered because they rely on a hash table for storage, not an indexed structure like lists.\n",
        "#     Dictionaries use hashing, which allows direct access to values based on key, has a significant impact on data retrieval. Since dictionaries do not maintain a fixed sequence like lists, you cannot access elements by index."
      ],
      "metadata": {
        "id": "FL413cvpXVuA"
      },
      "execution_count": null,
      "outputs": []
    },
    {
      "cell_type": "code",
      "source": [
        "#Q20. Explain the difference between a list and a dictionary in terms of data retrieval.\n",
        "#     In a list we using index positions. The index is an integer that starts from 0 for the first element, 1 for the second, and so on. Lists are ordered, the items in the list retain their order of insertion.\n",
        "#     my_list = [10, 20, 30]\n",
        "#     my_list[0] = 10\n",
        "#    In a dictionary we using keys. Keys can be of any immutable data type (like strings, numbers, or tuples), and each key maps to a value. Dictionaries are also ordered, they maintain the order of insertion of key-value pairs, but they are accessed by keys, not indices.\n",
        "#    my_dict = {'name': 'Alice', 'age': 25}\n",
        "#    print(my_dict['name']) = 'Alice' # Accessing the value using the key 'name'"
      ],
      "metadata": {
        "id": "bfKYlLoPXVih"
      },
      "execution_count": null,
      "outputs": []
    },
    {
      "cell_type": "markdown",
      "source": [
        "**Practical Questions**"
      ],
      "metadata": {
        "id": "2zVy5VYcjjKD"
      }
    },
    {
      "cell_type": "code",
      "source": [
        "# Q1. Write a code to create a string with your name and print it.\n",
        "my_name = \"Aditi\"\n",
        "print(my_name)"
      ],
      "metadata": {
        "colab": {
          "base_uri": "https://localhost:8080/"
        },
        "id": "S-Zy7xNHPost",
        "outputId": "540159fe-ab34-449e-8c3c-1fe785c4158a"
      },
      "execution_count": 7,
      "outputs": [
        {
          "output_type": "stream",
          "name": "stdout",
          "text": [
            "Aditi\n"
          ]
        }
      ]
    },
    {
      "cell_type": "code",
      "source": [
        "# Q2. Write a code to find the length of the string \"Hello World\".\n",
        "s= \"Hello World\"\n",
        "len(s)"
      ],
      "metadata": {
        "colab": {
          "base_uri": "https://localhost:8080/"
        },
        "id": "HxK9KTJwQ8X6",
        "outputId": "966498d3-c6da-4295-9dd5-847d182b9486"
      },
      "execution_count": 9,
      "outputs": [
        {
          "output_type": "execute_result",
          "data": {
            "text/plain": [
              "11"
            ]
          },
          "metadata": {},
          "execution_count": 9
        }
      ]
    },
    {
      "cell_type": "code",
      "source": [
        "# Q3. Write a code to slice the first 3 characters from the string \"Python Programming\".\n",
        "s= \"Python Programming\"\n",
        "s[0:3]\n"
      ],
      "metadata": {
        "colab": {
          "base_uri": "https://localhost:8080/",
          "height": 36
        },
        "id": "ZraEL3GxThTY",
        "outputId": "264abab9-b7cb-4713-b98d-9b74d1406afb"
      },
      "execution_count": 10,
      "outputs": [
        {
          "output_type": "execute_result",
          "data": {
            "text/plain": [
              "'Pyt'"
            ],
            "application/vnd.google.colaboratory.intrinsic+json": {
              "type": "string"
            }
          },
          "metadata": {},
          "execution_count": 10
        }
      ]
    },
    {
      "cell_type": "code",
      "source": [
        "# Q4. Write a code to convert the string \"hello\" to uppercase.\n",
        "s= \"hello\"\n",
        "s.upper()\n"
      ],
      "metadata": {
        "colab": {
          "base_uri": "https://localhost:8080/",
          "height": 36
        },
        "id": "n962RUWiTtwi",
        "outputId": "72876b1f-c077-4b62-a552-767bb76f49d0"
      },
      "execution_count": 11,
      "outputs": [
        {
          "output_type": "execute_result",
          "data": {
            "text/plain": [
              "'HELLO'"
            ],
            "application/vnd.google.colaboratory.intrinsic+json": {
              "type": "string"
            }
          },
          "metadata": {},
          "execution_count": 11
        }
      ]
    },
    {
      "cell_type": "code",
      "source": [
        "# Q5. Write a code to replace the word \"apple\" with \"orange\" in the string \"I like apple\".\n",
        "s= \"I like apple.\"\n",
        "s.replace(\"apple\", \"orange\")\n",
        "s"
      ],
      "metadata": {
        "colab": {
          "base_uri": "https://localhost:8080/",
          "height": 36
        },
        "id": "etmGIUzaT-JD",
        "outputId": "bc6c7687-111e-4569-d462-e5a4c5d41728"
      },
      "execution_count": 16,
      "outputs": [
        {
          "output_type": "execute_result",
          "data": {
            "text/plain": [
              "'I like apple.'"
            ],
            "application/vnd.google.colaboratory.intrinsic+json": {
              "type": "string"
            }
          },
          "metadata": {},
          "execution_count": 16
        }
      ]
    },
    {
      "cell_type": "code",
      "source": [
        "# Q6. Write a code to create a list with numbers 1 to 5 and print it.\n",
        "lst = [1, 2, 3, 4, 5]\n",
        "print(lst)\n"
      ],
      "metadata": {
        "colab": {
          "base_uri": "https://localhost:8080/"
        },
        "id": "2uzIdygtUHV8",
        "outputId": "dbb27b94-0b7d-4d7a-b8d4-5abee7cf0617"
      },
      "execution_count": 17,
      "outputs": [
        {
          "output_type": "stream",
          "name": "stdout",
          "text": [
            "[1, 2, 3, 4, 5]\n"
          ]
        }
      ]
    },
    {
      "cell_type": "code",
      "source": [
        "# Q7. Write a code to append the number 10 to the list [1, 2, 3, 4].\n",
        "lst = [1, 2, 3, 4]\n",
        "lst.append(10)\n",
        "print(lst)"
      ],
      "metadata": {
        "colab": {
          "base_uri": "https://localhost:8080/"
        },
        "id": "bElEe8PNUHNo",
        "outputId": "13daa68c-c155-4009-b6da-cb1b7a61bcc3"
      },
      "execution_count": 18,
      "outputs": [
        {
          "output_type": "stream",
          "name": "stdout",
          "text": [
            "[1, 2, 3, 4, 10]\n"
          ]
        }
      ]
    },
    {
      "cell_type": "code",
      "source": [
        "# Q8. Write a code to remove the number 3 from the list [1, 2, 3, 4, 5].\n",
        "lst = [1, 2, 3, 4, 5]\n",
        "lst.remove(3)\n",
        "print(lst)\n"
      ],
      "metadata": {
        "colab": {
          "base_uri": "https://localhost:8080/"
        },
        "id": "EEir1nE5UHE-",
        "outputId": "520acee4-91e5-49f6-974d-0678ce081ef4"
      },
      "execution_count": 20,
      "outputs": [
        {
          "output_type": "stream",
          "name": "stdout",
          "text": [
            "[1, 2, 4, 5]\n"
          ]
        }
      ]
    },
    {
      "cell_type": "code",
      "source": [
        "# Q9. Write a code to access the second element in the list ['a', 'b', 'c', 'd'].\n",
        "lst = ['a', 'b', 'c', 'd']\n",
        "lst[1]"
      ],
      "metadata": {
        "colab": {
          "base_uri": "https://localhost:8080/",
          "height": 36
        },
        "id": "k_mJaxDiUG-Q",
        "outputId": "0057be3c-dd43-4038-f254-9e2be4be2d55"
      },
      "execution_count": 21,
      "outputs": [
        {
          "output_type": "execute_result",
          "data": {
            "text/plain": [
              "'b'"
            ],
            "application/vnd.google.colaboratory.intrinsic+json": {
              "type": "string"
            }
          },
          "metadata": {},
          "execution_count": 21
        }
      ]
    },
    {
      "cell_type": "code",
      "source": [
        "# Q10. Write a code to reverse the list [10, 20, 30, 40, 50].\n",
        "lst= [10, 20, 30, 40, 50]\n",
        "rev_lst= lst [::-1]\n",
        "rev_lst"
      ],
      "metadata": {
        "colab": {
          "base_uri": "https://localhost:8080/"
        },
        "id": "C-SVV7ozUG2L",
        "outputId": "75db8c1b-97dd-4f89-8ac3-70c8ba83b572"
      },
      "execution_count": 22,
      "outputs": [
        {
          "output_type": "execute_result",
          "data": {
            "text/plain": [
              "[50, 40, 30, 20, 10]"
            ]
          },
          "metadata": {},
          "execution_count": 22
        }
      ]
    },
    {
      "cell_type": "code",
      "source": [
        "# Q11. Write a code to create a tuple with the elements 100, 200, 300 and print it.\n",
        "my_tuple = (100, 200, 300)\n",
        "print(my_tuple)"
      ],
      "metadata": {
        "colab": {
          "base_uri": "https://localhost:8080/"
        },
        "id": "RjKzMOeIUGtF",
        "outputId": "eb90f8d3-8282-49aa-9144-2f9639cb5b92"
      },
      "execution_count": 23,
      "outputs": [
        {
          "output_type": "stream",
          "name": "stdout",
          "text": [
            "(100, 200, 300)\n"
          ]
        }
      ]
    },
    {
      "cell_type": "code",
      "source": [
        "# Q12. Write a code to access the second-to-last element of the tuple ('red', 'green', 'blue', 'yellow').\n",
        "t = (\"red\", \"green\", \"blue\", \"yellow\")\n",
        "t[-2]"
      ],
      "metadata": {
        "colab": {
          "base_uri": "https://localhost:8080/",
          "height": 36
        },
        "id": "c1bm3-zWUGj6",
        "outputId": "8a882b0d-49ef-44af-a735-c2756af1dd18"
      },
      "execution_count": 27,
      "outputs": [
        {
          "output_type": "execute_result",
          "data": {
            "text/plain": [
              "'blue'"
            ],
            "application/vnd.google.colaboratory.intrinsic+json": {
              "type": "string"
            }
          },
          "metadata": {},
          "execution_count": 27
        }
      ]
    },
    {
      "cell_type": "code",
      "source": [
        "# Q13. Write a code to find the minimum number in the tuple (10, 20, 5, 15).\n",
        "t = (10, 20, 5, 15)\n",
        "min(t)"
      ],
      "metadata": {
        "colab": {
          "base_uri": "https://localhost:8080/"
        },
        "id": "W_OcU0eHUGYu",
        "outputId": "369f1274-4097-4f07-e0fa-f8f9349d43a4"
      },
      "execution_count": 25,
      "outputs": [
        {
          "output_type": "execute_result",
          "data": {
            "text/plain": [
              "5"
            ]
          },
          "metadata": {},
          "execution_count": 25
        }
      ]
    },
    {
      "cell_type": "code",
      "source": [
        "# Q14. Write a code to find the index of the element \"cat\" in the tuple ('dog', 'cat', 'rabbit').\n",
        "t = (\"dog\", \"cat\", \"rabbit\")\n",
        "t.index(\"cat\")"
      ],
      "metadata": {
        "colab": {
          "base_uri": "https://localhost:8080/"
        },
        "id": "FaGrzPVnUGDK",
        "outputId": "4a22f2a0-5bf5-4144-df23-a72bf6e0485c"
      },
      "execution_count": 26,
      "outputs": [
        {
          "output_type": "execute_result",
          "data": {
            "text/plain": [
              "1"
            ]
          },
          "metadata": {},
          "execution_count": 26
        }
      ]
    },
    {
      "cell_type": "code",
      "source": [
        "# Q15. Write a code to create a tuple containing three different fruits and check if \"kiwi\" is in it.\n",
        "t = (\"apple\", \"banana\", \"orange\")\n",
        "\"kiwi\" in t"
      ],
      "metadata": {
        "colab": {
          "base_uri": "https://localhost:8080/"
        },
        "id": "5BhNqRXuUF5N",
        "outputId": "463fba01-5f64-472d-b89b-acb6ff6b884f"
      },
      "execution_count": 28,
      "outputs": [
        {
          "output_type": "execute_result",
          "data": {
            "text/plain": [
              "False"
            ]
          },
          "metadata": {},
          "execution_count": 28
        }
      ]
    },
    {
      "cell_type": "code",
      "source": [
        "# Q16. Write a code to create a set with the elements 'a', 'b', 'c' and print it.\n",
        "set1 = {'a', 'b', 'c'}\n",
        "print(set1)"
      ],
      "metadata": {
        "colab": {
          "base_uri": "https://localhost:8080/"
        },
        "id": "d3RDkDa-UFX9",
        "outputId": "b1226ab8-8181-4489-9e56-9fcc1797725a"
      },
      "execution_count": 29,
      "outputs": [
        {
          "output_type": "stream",
          "name": "stdout",
          "text": [
            "{'a', 'b', 'c'}\n"
          ]
        }
      ]
    },
    {
      "cell_type": "code",
      "source": [
        "# Q17. Write a code to clear all elements from the set {1, 2, 3, 4, 5}.\n",
        "s = {1, 2, 3, 4, 5}\n",
        "s.clear()\n",
        "print(s)"
      ],
      "metadata": {
        "colab": {
          "base_uri": "https://localhost:8080/"
        },
        "id": "kwz3sV5iUE0P",
        "outputId": "d8782a41-2683-4df7-c36f-0eeadd171027"
      },
      "execution_count": 30,
      "outputs": [
        {
          "output_type": "stream",
          "name": "stdout",
          "text": [
            "set()\n"
          ]
        }
      ]
    },
    {
      "cell_type": "code",
      "source": [
        "# Q18.  Write a code to remove the element 4 from the set {1, 2, 3, 4}.\n",
        "s = {1, 2, 3, 4}\n",
        "s.remove(4)\n",
        "print(s)"
      ],
      "metadata": {
        "colab": {
          "base_uri": "https://localhost:8080/"
        },
        "id": "halpdDPwVOKD",
        "outputId": "6c4c763f-2ec5-4357-e7ff-dbccc4e12872"
      },
      "execution_count": 31,
      "outputs": [
        {
          "output_type": "stream",
          "name": "stdout",
          "text": [
            "{1, 2, 3}\n"
          ]
        }
      ]
    },
    {
      "cell_type": "code",
      "source": [
        "#Q19. Write a code to find the union of two sets {1, 2, 3} and {3, 4, 5}.\n",
        "s1 = {1, 2, 3}\n",
        "s2 = {3, 4, 5}\n",
        "s1 | s2"
      ],
      "metadata": {
        "colab": {
          "base_uri": "https://localhost:8080/"
        },
        "id": "0LpetRW9VN5W",
        "outputId": "0d76b81f-52fc-4d74-8281-72b1a672828c"
      },
      "execution_count": 32,
      "outputs": [
        {
          "output_type": "execute_result",
          "data": {
            "text/plain": [
              "{1, 2, 3, 4, 5}"
            ]
          },
          "metadata": {},
          "execution_count": 32
        }
      ]
    },
    {
      "cell_type": "code",
      "source": [
        "# 20. Write a code to find the intersection of two sets {1, 2, 3} and {2, 3, 4}.\n",
        "s1 = {1, 2, 3}\n",
        "s2 = {2, 3, 4}\n",
        "s1 & s2"
      ],
      "metadata": {
        "colab": {
          "base_uri": "https://localhost:8080/"
        },
        "id": "5n6pI5JwVNyT",
        "outputId": "5061502f-71ab-41c5-e011-24bc75bebf04"
      },
      "execution_count": 33,
      "outputs": [
        {
          "output_type": "execute_result",
          "data": {
            "text/plain": [
              "{2, 3}"
            ]
          },
          "metadata": {},
          "execution_count": 33
        }
      ]
    },
    {
      "cell_type": "code",
      "source": [
        "# Q21. Write a code to create a dictionary with the keys \"name\", \"age\", and \"city\", and print it.\n",
        "my_dict = {\"name\": \"Aditi\", \"age\": 20, \"city\": \"Mumbai\"}\n",
        "print(my_dict)"
      ],
      "metadata": {
        "colab": {
          "base_uri": "https://localhost:8080/"
        },
        "id": "dqputNZdVNrB",
        "outputId": "34a69354-325a-4581-9fa0-ee46dd4f09f3"
      },
      "execution_count": 34,
      "outputs": [
        {
          "output_type": "stream",
          "name": "stdout",
          "text": [
            "{'name': 'Aditi', 'age': 20, 'city': 'Mumbai'}\n"
          ]
        }
      ]
    },
    {
      "cell_type": "code",
      "source": [
        "# Q22. Write a code to add a new key-value pair \"country\": \"USA\" to the dictionary {'name': 'John', 'age': 25}.\n",
        "my_dict = {'name': 'John', 'age': 25}\n",
        "my_dict[\"country\"] = \"USA\"\n",
        "print(my_dict)"
      ],
      "metadata": {
        "colab": {
          "base_uri": "https://localhost:8080/"
        },
        "id": "Yqk-MKVQVNlf",
        "outputId": "8216ae46-512d-4b15-ccb6-d081833dbacc"
      },
      "execution_count": 35,
      "outputs": [
        {
          "output_type": "stream",
          "name": "stdout",
          "text": [
            "{'name': 'John', 'age': 25, 'country': 'USA'}\n"
          ]
        }
      ]
    },
    {
      "cell_type": "code",
      "source": [
        "# Q23. Write a code to access the value associated with the key \"name\" in the dictionary {'name': 'Alice', 'age': 30}.\n",
        "my_dict = {'name': 'Alice', 'age': 30}\n",
        "my_dict[\"name\"]"
      ],
      "metadata": {
        "colab": {
          "base_uri": "https://localhost:8080/",
          "height": 36
        },
        "id": "NDHAKiIoVNeg",
        "outputId": "3f78b681-c191-4209-b57f-42db455ec578"
      },
      "execution_count": 37,
      "outputs": [
        {
          "output_type": "execute_result",
          "data": {
            "text/plain": [
              "'Alice'"
            ],
            "application/vnd.google.colaboratory.intrinsic+json": {
              "type": "string"
            }
          },
          "metadata": {},
          "execution_count": 37
        }
      ]
    },
    {
      "cell_type": "code",
      "source": [
        "# Q24. Write a code to remove the key \"age\" from the dictionary {'name': 'Bob', 'age': 22, 'city': 'New York'}.\n",
        "dic = {'name': 'Bob', 'age': 22, 'city': 'New York'}\n",
        "del dic[\"age\"]\n",
        "print(dic)"
      ],
      "metadata": {
        "colab": {
          "base_uri": "https://localhost:8080/"
        },
        "id": "jiY-7ZNxVNV7",
        "outputId": "a850c521-a28c-4b36-e6b3-9f2f42c7a389"
      },
      "execution_count": 38,
      "outputs": [
        {
          "output_type": "stream",
          "name": "stdout",
          "text": [
            "{'name': 'Bob', 'city': 'New York'}\n"
          ]
        }
      ]
    },
    {
      "cell_type": "code",
      "source": [
        "# Q25. Write a code to check if the key \"city\" exists in the dictionary {'name': 'Alice', 'city': 'Paris'}.\n",
        "my_dic = {'name': 'Alice', 'city': 'Paris'}\n",
        "\"city\" in my_dic"
      ],
      "metadata": {
        "colab": {
          "base_uri": "https://localhost:8080/"
        },
        "id": "9DT2H43hVNOn",
        "outputId": "4d4f0d6e-9242-4680-c835-b9c203e9802f"
      },
      "execution_count": 39,
      "outputs": [
        {
          "output_type": "execute_result",
          "data": {
            "text/plain": [
              "True"
            ]
          },
          "metadata": {},
          "execution_count": 39
        }
      ]
    },
    {
      "cell_type": "code",
      "source": [
        "# Q26. Write a code to create a list, a tuple, and a dictionary, and print them all.\n",
        "lst = [1, 2, 3, 4]\n",
        "tup = (1, 2, 3, 4)\n",
        "dic = {\"name\": \"john\", \"age\": 20, \"city\": \"delhi\"}\n",
        "print(lst)\n",
        "print(tup)\n",
        "print(dic)"
      ],
      "metadata": {
        "colab": {
          "base_uri": "https://localhost:8080/"
        },
        "id": "VkyMw_RvVNJZ",
        "outputId": "7556b5f3-8674-477b-b487-a1853354e9e7"
      },
      "execution_count": 40,
      "outputs": [
        {
          "output_type": "stream",
          "name": "stdout",
          "text": [
            "[1, 2, 3, 4]\n",
            "(1, 2, 3, 4)\n",
            "{'name': 'john', 'age': 20, 'city': 'delhi'}\n"
          ]
        }
      ]
    },
    {
      "cell_type": "code",
      "source": [
        "# Q27. Write a code to create a list of 5 random numbers between 1 and 100, sort it in ascending order, and print the result.(replaced)\n",
        "import random\n",
        "lst = [random.randint(1, 100) for _ in range(5)]\n",
        "lst.sort()\n",
        "print(lst)"
      ],
      "metadata": {
        "colab": {
          "base_uri": "https://localhost:8080/"
        },
        "id": "xaWMlkiTVNF8",
        "outputId": "e45f3569-9d43-4d3b-bd6f-e54f1008dc5e"
      },
      "execution_count": 41,
      "outputs": [
        {
          "output_type": "stream",
          "name": "stdout",
          "text": [
            "[8, 12, 29, 35, 35]\n"
          ]
        }
      ]
    },
    {
      "cell_type": "code",
      "source": [
        "# Q28. Write a code to create a list with strings and print the element at the third index.\n",
        "lst = [\"apple\", \"banana\", \"orange\", \"grape\", \"kiwi\"]\n",
        "print(lst[3])"
      ],
      "metadata": {
        "colab": {
          "base_uri": "https://localhost:8080/"
        },
        "id": "xEpAUKHQVNDp",
        "outputId": "5be7e7c3-5a74-4699-871a-5b99069a35d0"
      },
      "execution_count": 42,
      "outputs": [
        {
          "output_type": "stream",
          "name": "stdout",
          "text": [
            "grape\n"
          ]
        }
      ]
    },
    {
      "cell_type": "code",
      "source": [
        "# Q29. Write a code to combine two dictionaries into one and print the result.\n",
        "dic1 = {\"name\": \"john\", \"age\": 20}\n",
        "dic2 = {\"city\": \"delhi\", \"country\": \"india\"}\n",
        "dic1.update(dic2)\n",
        "print(dic1)"
      ],
      "metadata": {
        "colab": {
          "base_uri": "https://localhost:8080/"
        },
        "id": "BFXvCuIfVM86",
        "outputId": "41887f81-71aa-4df7-a398-ffeee714320d"
      },
      "execution_count": 43,
      "outputs": [
        {
          "output_type": "stream",
          "name": "stdout",
          "text": [
            "{'name': 'john', 'age': 20, 'city': 'delhi', 'country': 'india'}\n"
          ]
        }
      ]
    },
    {
      "cell_type": "code",
      "source": [
        "# Q30. Write a code to convert a list of strings into a set.\n",
        "lst = [\"apple\", \"banana\", \"orange\", \"grape\", \"kiwi\"]\n",
        "set1 = set(lst)\n",
        "print(set1)\n"
      ],
      "metadata": {
        "colab": {
          "base_uri": "https://localhost:8080/"
        },
        "id": "11-MShZZWrnv",
        "outputId": "5a8ab33f-fb14-47ad-b1d9-6c2616caf967"
      },
      "execution_count": 44,
      "outputs": [
        {
          "output_type": "stream",
          "name": "stdout",
          "text": [
            "{'orange', 'banana', 'apple', 'grape', 'kiwi'}\n"
          ]
        }
      ]
    }
  ]
}